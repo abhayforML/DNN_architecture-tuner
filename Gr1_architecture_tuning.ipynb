{
  "nbformat": 4,
  "nbformat_minor": 0,
  "metadata": {
    "colab": {
      "provenance": [],
      "collapsed_sections": [],
      "authorship_tag": "ABX9TyNkFDy8gn/PzPx4fBfOAA6j",
      "include_colab_link": true
    },
    "kernelspec": {
      "name": "python3",
      "display_name": "Python 3"
    },
    "language_info": {
      "name": "python"
    }
  },
  "cells": [
    {
      "cell_type": "markdown",
      "metadata": {
        "id": "view-in-github",
        "colab_type": "text"
      },
      "source": [
        "<a href=\"https://colab.research.google.com/github/abhayforML/DNN_architecture-tuner/blob/main/Gr1_architecture_tuning.ipynb\" target=\"_parent\"><img src=\"https://colab.research.google.com/assets/colab-badge.svg\" alt=\"Open In Colab\"/></a>"
      ]
    },
    {
      "cell_type": "markdown",
      "source": [
        "##Group1 - Abhay(01), Moutushi(14), Meenakshi(12)\n",
        "##Getting the best/optimum loss and accuracy using tuner \n",
        "\n",
        "###In the earlier submitted architecture of DNN where input is Avg returns and output is var covar matrix.  The loss shown was much higher.\n",
        "\n",
        "####Note: Int this project avg returns are generated from 3000 sample (taken from) 2 year past data. So the historical data is increased and the number of input samples too. However, that does not reduce the loss much further. This project attempts to use the 'tuner' funtion of Keras.\n"
      ],
      "metadata": {
        "id": "NkxY2LOGcca3"
      }
    },
    {
      "cell_type": "markdown",
      "source": [
        "###Step1: Download prices for for 4 selected stocks and calculate returns.\n",
        "###Number of stocks can be expanded later.\n",
        "###Use the function loadprices."
      ],
      "metadata": {
        "id": "saujzcnkI7Hs"
      }
    },
    {
      "cell_type": "code",
      "execution_count": null,
      "metadata": {
        "colab": {
          "base_uri": "https://localhost:8080/"
        },
        "id": "pVSrAF6fIHew",
        "outputId": "88c5cc67-df6c-4c9e-ffbc-0cdd27cbe094"
      },
      "outputs": [
        {
          "output_type": "stream",
          "name": "stdout",
          "text": [
            "https://query1.finance.yahoo.com/v7/finance/download/TCS.NS?period1=1601078400&period2=1664150400&interval=1d&events=history&includeAdjustedClose=true\n",
            "['2020-11-14', '2677.949951', '2689.000000', '2660.050049', '2670.350098', '2612.288330', '298819']\n",
            "https://query1.finance.yahoo.com/v7/finance/download/ASIANPAINT.NS?period1=1601078400&period2=1664150400&interval=1d&events=history&includeAdjustedClose=true\n",
            "['2020-11-14', '2192.000000', '2193.399902', '2180.350098', '2184.600098', '2158.833984', '146991']\n",
            "https://query1.finance.yahoo.com/v7/finance/download/SBIN.NS?period1=1601078400&period2=1664150400&interval=1d&events=history&includeAdjustedClose=true\n",
            "['2020-11-14', '232.000000', '232.899994', '227.750000', '229.649994', '224.052551', '7753219']\n",
            "https://query1.finance.yahoo.com/v7/finance/download/DABUR.NS?period1=1601078400&period2=1664150400&interval=1d&events=history&includeAdjustedClose=true\n",
            "['2020-11-14', '520.000000', '522.000000', '515.500000', '517.150024', '509.917419', '438259']\n",
            "https://query1.finance.yahoo.com/v7/finance/download/CIPLA.NS?period1=1601078400&period2=1664150400&interval=1d&events=history&includeAdjustedClose=true\n",
            "['2020-11-14', '749.500000', '749.900024', '744.000000', '745.750000', '738.072693', '631992']\n",
            "https://query1.finance.yahoo.com/v7/finance/download/ADANIPORTS.NS?period1=1601078400&period2=1664150400&interval=1d&events=history&includeAdjustedClose=true\n",
            "['2020-11-14', '369.000000', '369.000000', '363.000000', '366.100006', '361.051849', '444529']\n",
            "Prices daily adj close...prices give 1 extra\n",
            "(495, 6)\n",
            "\n",
            "Stock returns\n",
            " (494, 6) \n",
            "\n"
          ]
        }
      ],
      "source": [
        "import pandas as pd\n",
        "import numpy as np\n",
        "\n",
        "symbol = 'reliance' # specify the yahoo symbol like infy, reliance, sbin etc.\n",
        "years = 2       # specify the number of years (You can change this to number of days, in that case remove multiplication of 365 in variable 'start')\n",
        "\n",
        "# Rewrite another similar program which takes a specific period and output prices of a given stock.\n",
        "\n",
        "def loadprices(symbol, years = 1):\n",
        "  from urllib.request import urlopen\n",
        "  import math\n",
        "  import datetime\n",
        "  end = ((datetime.date.today() - datetime.date(1970, 1, 2)).days)*24*3600\n",
        "  start = end - years*365*24*3600\n",
        "  if symbol == 'NSEI':                      #ignore this code as we do not use NSEI\n",
        "    link = 'https://query1.finance.yahoo.com/v7/finance/download/'+ '%5ENSEI'.upper() +'?period1='+ str(start) + \\\n",
        "    '&period2='+ str(end) +'&interval=1d&events=history&includeAdjustedClose=true'\n",
        "  else:\n",
        "    link = 'https://query1.finance.yahoo.com/v7/finance/download/'+ symbol.upper() +'.NS?period1='+ str(start) + \\\n",
        "    '&period2='+ str(end) +'&interval=1d&events=history&includeAdjustedClose=true'\n",
        "  print(link)\n",
        "  f = urlopen(link)\n",
        "  data = f.read()\n",
        "  data = data.decode('utf-8')\n",
        "  data = data.split('\\n')\n",
        "  daily_adjusted_close = []\n",
        "  for line in data[1:]:\n",
        "    # line is a str type\n",
        "    row = line.split(',')\n",
        "    if row[0] == '2020-11-14':\n",
        "        print(row)                      #Check nulls\n",
        "        #r1 = list(map(lambda x : '0.0' if x == 'null' else x ,row)) #fix nulls\n",
        "        #row = r1\n",
        "        #continue                        #skip NaN row\n",
        "    # row is a list of 7 elements\n",
        "    daily_adjusted_close.append(float(row[5]))\n",
        "  return(daily_adjusted_close)\n",
        "  \n",
        "\n",
        "#portstocks = ['NSEI', 'TCS', 'ASIANPAINT', 'SBIN', 'DABUR', 'ADANIPORTS']\n",
        "portstocks = ['TCS', 'ASIANPAINT', 'SBIN', 'DABUR','CIPLA','ADANIPORTS']\n",
        "\n",
        "stocklist = [] # list to collect adj close prices\n",
        "for stk in portstocks:\n",
        "  stocklist.append(loadprices(stk, years))\n",
        "\n",
        "stocks_df = pd.DataFrame(stocklist, index=[portstocks]).T\n",
        "\n",
        "print('Prices daily adj close...prices give 1 extra')\n",
        "#print(stocks_df.isna())\n",
        "print(stocks_df.shape)\n",
        "\n",
        "stocks_rtn = stocks_df.pct_change().dropna()\n",
        "#print(stocks_rtn.isna().sum())\n",
        "#Stock returns is a pandas dataframe\n",
        "\n",
        "print('\\nStock returns\\n', stocks_rtn.shape, '\\n')\n",
        "#print last 2 year's data\n",
        "#print(stocks_rtn)\n"
      ]
    },
    {
      "cell_type": "markdown",
      "source": [
        "###Step2: For our DNN we should input the Avg stock returns and output the Var-Covar matrix.\n",
        "\n",
        "DNN requires more observations typically in 1000s or more. \n",
        "In this experiment, We here generate 3000 random samples from our 2 year of data, selected consecutive 90 rows at a time. \n",
        "\n",
        "i.e. Each sample of 90 consecutive rows will generate a different \"mean returns for those 90 days\". This is our input.\n"
      ],
      "metadata": {
        "id": "Ch9HbUJEI58A"
      }
    },
    {
      "cell_type": "code",
      "source": [
        "import random\n",
        "\n",
        "nrows = stocks_rtn.shape[0]\n",
        "#(ncols = stocks_rtn.shape[,0]\n",
        "#496 rows\n",
        "print(nrows)\n",
        "\n",
        "#Initialize a row vector 16x1\n",
        "temp_arr = np.zeros(36, dtype=float)\n",
        "temp_avg_rtn_arr = np.zeros((6,1), dtype=float)\n",
        "\n",
        "#Genrate 3000 samples of consecutive 90 rows\n",
        "#90 taken to resemble a qtr \n",
        "for i in range(2999):\n",
        "    #ix will give any number between 0,496-90\n",
        "    ix = random.randint(0,nrows-90)\n",
        "    #print('sample #',i)                             #prints sample #\n",
        "    sample_rtn = stocks_rtn.iloc[ix:ix+90, :]       #sample drawn\n",
        "    #print(sample_rtn)                              #prints sample\n",
        "    s_avg_rtn = sample_rtn.sum(axis=0)/90           #all cols avged\n",
        "    sample_avg_rtn = s_avg_rtn.to_frame(name=None)  #df\n",
        "    #print(sample_avg_rtn.T)                        #prints avg 1x5\n",
        "    sample_avg_rtn_arr = sample_avg_rtn.to_numpy()  #np\n",
        "    sample_vc = sample_rtn.cov()                    #df cov of rtn\n",
        "    if i == 2999:\n",
        "        print('Last Cov array to compare')\n",
        "        print(sample_vc)                               #prints last cov matrix 5x5\n",
        "    sample_vc_arr = sample_vc.to_numpy()            #np\n",
        "    sample_vc_vec = sample_vc_arr.flatten(order='C')#flattened cov\n",
        "    #print(sample_vc_vec.shape)                     #25x1\n",
        "    temp_arr = np.append(temp_arr, sample_vc_vec, axis=0)\n",
        "\n",
        "    temp_avg_rtn_arr = np.append(temp_avg_rtn_arr, sample_avg_rtn_arr, axis=0)\n",
        "    #print(temp_arr.shape)\n",
        "final_arr = np.reshape(temp_arr, (3000, 36), order='C')\n",
        "final_arr = np.delete(final_arr,0,0)\n",
        "print('*****************Cov')\n",
        "print('3000 Cov flattend arrays')\n",
        "print(final_arr)\n",
        "#print(final_arr.shape)\n",
        "print('*****************')\n",
        "\n",
        "print('*****************Rtn')\n",
        "print('3000 rtns arrays')\n",
        "final_rtn_arr = np.reshape(temp_avg_rtn_arr, (3000, 6), order='C')\n",
        "final_rtn_arr = np.delete(final_rtn_arr,0,0)        #remove first one\n",
        "print(final_rtn_arr)\n",
        "#print(final_rtn_arr.shape)\n",
        "print('*****************')\n",
        "\n",
        "#convert back to Dataframe the Cov\n",
        "final_arr = np.delete(final_arr,0,0)\n",
        "allsample_vc_vecs = pd.DataFrame(data=final_arr).dropna()\n",
        "#pd.set_option('display.max_rows', None)\n",
        "#print(type(allsample_vc_vecs))\n",
        "\n",
        "\n",
        "allsample_avg_rtn = pd.DataFrame(data=final_rtn_arr).dropna()\n",
        "final_rtn_arr = np.delete(final_rtn_arr,0,0)\n",
        "\n",
        "\n",
        "\n",
        "#print(allsample_vc_vecs[allsample_vc_vecs.isnull().any(axis=1)])\n",
        "#print(allsample_avg_rtn[allsample_avg_rtn.isnull().any(axis=1)])\n",
        "#df[df.isnull().any(axis=1)]\n",
        "print(final_arr.shape)\n",
        "print(final_rtn_arr.shape)"
      ],
      "metadata": {
        "colab": {
          "base_uri": "https://localhost:8080/"
        },
        "id": "Pcbf801oi-t-",
        "outputId": "b5a63b8c-2e1d-4a03-bb43-46a74e3ad964"
      },
      "execution_count": null,
      "outputs": [
        {
          "output_type": "stream",
          "name": "stdout",
          "text": [
            "494\n",
            "*****************Cov\n",
            "3000 Cov flattend arrays\n",
            "[[ 2.12855449e-04  1.14694468e-04  1.00213070e-04 ...  1.46764528e-04\n",
            "   4.47813821e-05  4.39935260e-04]\n",
            " [ 1.78481447e-04  6.40675105e-05  2.97026659e-05 ...  3.83336912e-05\n",
            "  -2.58389342e-05  4.50951892e-04]\n",
            " [ 2.18406912e-04  8.55314587e-05  4.69935606e-05 ...  7.53716913e-05\n",
            "   9.03209016e-05  5.90673988e-04]\n",
            " ...\n",
            " [ 1.27314920e-04  4.44840082e-05  9.82796711e-06 ...  4.62247413e-05\n",
            "   5.69319517e-06  9.46559923e-04]\n",
            " [ 2.65389900e-04  1.75563539e-04  1.43013152e-04 ...  2.34660695e-04\n",
            "   1.51467865e-04  6.43144427e-04]\n",
            " [ 1.27577941e-04  4.35072739e-05  1.02438208e-05 ...  4.65820278e-05\n",
            "   5.83159618e-06  9.47327457e-04]]\n",
            "*****************\n",
            "*****************Rtn\n",
            "3000 rtns arrays\n",
            "[[-6.55405815e-05 -3.56142520e-04  3.33882929e-04 -4.20030712e-04\n",
            "   8.70186990e-04  1.60925663e-03]\n",
            " [-1.27394643e-05 -2.27919484e-04  1.75228288e-03 -1.03873345e-03\n",
            "  -3.28537084e-04 -1.44850469e-04]\n",
            " [ 2.01426203e-03  2.00842161e-03  4.88595176e-03  6.16115799e-04\n",
            "   1.11865274e-03  7.27781037e-03]\n",
            " ...\n",
            " [ 7.08550239e-04  1.94377517e-03  2.07120094e-03  8.14863810e-04\n",
            "   1.39078079e-03  4.94163958e-04]\n",
            " [-1.84193302e-03 -1.76365409e-03 -1.63728203e-03 -1.13920179e-03\n",
            "   3.19549169e-04 -3.16485558e-04]\n",
            " [ 7.42115062e-04  1.78555771e-03  2.13729782e-03  9.56564750e-04\n",
            "   1.46393491e-03  2.68116224e-04]]\n",
            "*****************\n",
            "(2998, 36)\n",
            "(2998, 6)\n"
          ]
        }
      ]
    },
    {
      "cell_type": "markdown",
      "source": [
        "###Step3: Import Keras libraries\n",
        "###Define X_data, Y_data\n",
        "### Y_Data is the expected output var-covariance flattened matrix \n",
        "### X_Data is the actual avg rtns of 2998 samples"
      ],
      "metadata": {
        "id": "jYJG-EdFZXTn"
      }
    },
    {
      "cell_type": "code",
      "source": [
        "from sklearn.metrics import confusion_matrix, classification_report\n",
        "from sklearn.model_selection import train_test_split\n",
        "\n",
        "#kera libraries below\n",
        "from tensorflow import keras\n",
        "from tensorflow.keras import layers\n",
        "from keras.models import Sequential\n",
        "from keras.layers import Activation, Dense, Dropout\n",
        "from keras.metrics import categorical_crossentropy\n",
        "!pip install keras-tuner -q\n",
        "import keras_tuner\n",
        "\n",
        "#Everything is numeric..nothing to transform from alpha to numeric in preprocessing\n",
        "#No Label encoding is  required in the pre-processing otherwise \n",
        "#from sklearn.preprocessing import StandardScaler, MinMaxScaler, LabelEncoder\n",
        "#Refer to DNNkeras_group1 if need be for tranformations\n",
        "\n",
        "\n",
        "Y_data = allsample_vc_vecs\n",
        "print(Y_data.shape)\n",
        "X_data = final_rtn_arr\n",
        "print(X_data.shape)\n",
        "\n",
        "x_train, x_test, y_train, y_test = train_test_split(X_data, Y_data, test_size=0.2, random_state=1)\n",
        "x_train, x_val, y_train, y_val = train_test_split(X_data, Y_data, test_size=0.2, random_state=1)\n"
      ],
      "metadata": {
        "colab": {
          "base_uri": "https://localhost:8080/"
        },
        "id": "2qUPmdGWZbhq",
        "outputId": "0f7daae0-a34b-46aa-c818-4c17904ad7d0"
      },
      "execution_count": null,
      "outputs": [
        {
          "output_type": "stream",
          "name": "stdout",
          "text": [
            "(2998, 36)\n",
            "(2998, 6)\n"
          ]
        }
      ]
    },
    {
      "cell_type": "markdown",
      "source": [
        "##Write build_model function with different typer parameters"
      ],
      "metadata": {
        "id": "QPdxIJieU56X"
      }
    },
    {
      "cell_type": "code",
      "source": [
        "def build_model(hp):\n",
        "    model = keras.Sequential()\n",
        "    #model.add(layers.Flatten())            Not needed as this is not CNN\n",
        "    # Tune the number of layers.\n",
        "    for i in range(hp.Int(\"num_layers\", 1, 3)):\n",
        "        model.add(\n",
        "            layers.Dense(\n",
        "                # Tune number of units separately.\n",
        "                units=hp.Int(f\"units_{i}\", min_value=36, max_value=360, step=36),\n",
        "                input_dim=6,\n",
        "                activation=hp.Choice(\"activation\", ['relu']),\n",
        "            )\n",
        "        )\n",
        "    if hp.Boolean(\"dropout\"):               #default is false\n",
        "        model.add(layers.Dropout(rate=0.5))\n",
        "    model.add(layers.Dense(36, activation=\"relu\"))\n",
        "    learning_rate = hp.Float(\"lr\", min_value=1e-4, max_value=1e-2, sampling=\"log\")\n",
        "    model.compile(\n",
        "        optimizer=keras.optimizers.Adam(learning_rate=learning_rate),\n",
        "        loss=\"MSE\",\n",
        "        metrics=[\"accuracy\"],\n",
        "    )\n",
        "    return model\n",
        "\n",
        "\n",
        "#build_model(keras_tuner.HyperParameters()) #this is a test for bult model\n",
        "#print(keras_tuner.HyperParameters())"
      ],
      "metadata": {
        "id": "5EPSOrojkHYF"
      },
      "execution_count": null,
      "outputs": []
    },
    {
      "cell_type": "markdown",
      "source": [
        "##RandomSearch optimization using tuner\n",
        "###We are taking 5 trials and 5 executions per trial\n",
        "###Tuner calls buld_model functions\n"
      ],
      "metadata": {
        "id": "AkV5O5f1T9Kn"
      }
    },
    {
      "cell_type": "code",
      "source": [
        "tuner = keras_tuner.RandomSearch(\n",
        "    hypermodel=build_model,\n",
        "    objective=\"val_loss\",\n",
        "    max_trials=5,\n",
        "    executions_per_trial=5,\n",
        "    overwrite=True,\n",
        "    directory=\"content\",\n",
        "    project_name=\"Group1_architecture\",\n",
        ")"
      ],
      "metadata": {
        "id": "dPXIM0Z-oRJo"
      },
      "execution_count": null,
      "outputs": []
    },
    {
      "cell_type": "code",
      "source": [
        "tuner.search_space_summary()"
      ],
      "metadata": {
        "colab": {
          "base_uri": "https://localhost:8080/"
        },
        "id": "51tZBXMtouuR",
        "outputId": "6b2b60f5-53fe-4e09-8e52-a6ac8d740376"
      },
      "execution_count": null,
      "outputs": [
        {
          "output_type": "stream",
          "name": "stdout",
          "text": [
            "Search space summary\n",
            "Default search space size: 5\n",
            "num_layers (Int)\n",
            "{'default': None, 'conditions': [], 'min_value': 1, 'max_value': 3, 'step': 1, 'sampling': None}\n",
            "units_0 (Int)\n",
            "{'default': None, 'conditions': [], 'min_value': 36, 'max_value': 360, 'step': 36, 'sampling': None}\n",
            "activation (Choice)\n",
            "{'default': 'relu', 'conditions': [], 'values': ['relu'], 'ordered': False}\n",
            "dropout (Boolean)\n",
            "{'default': False, 'conditions': []}\n",
            "lr (Float)\n",
            "{'default': 0.0001, 'conditions': [], 'min_value': 0.0001, 'max_value': 0.01, 'step': None, 'sampling': 'log'}\n"
          ]
        }
      ]
    },
    {
      "cell_type": "code",
      "source": [
        "tuner.search(x_train, y_train, epochs=4, validation_data=(x_val, y_val))"
      ],
      "metadata": {
        "colab": {
          "base_uri": "https://localhost:8080/"
        },
        "id": "46RAAW1-pGTh",
        "outputId": "f0b80e00-fab6-4588-e58b-8471b9b8339e"
      },
      "execution_count": null,
      "outputs": [
        {
          "output_type": "stream",
          "name": "stdout",
          "text": [
            "Trial 5 Complete [00h 00m 13s]\n",
            "val_loss: 3.279033933267783e-08\n",
            "\n",
            "Best val_loss So Far: 7.886443320614945e-09\n",
            "Total elapsed time: 00h 00m 46s\n"
          ]
        }
      ]
    },
    {
      "cell_type": "code",
      "source": [
        "# Get the top 2 models.\n",
        "models = tuner.get_best_models(num_models=2)\n",
        "best_model = models[0]          #The first in the list\n",
        "best_hps = tuner.get_best_hyperparameters(5)            #used later\n",
        "\n",
        "# Build the model.\n",
        "# Needed for `Sequential` without specified `input_shape`.\n",
        "best_model.build(input_shape=(None,6))\n",
        "best_model.summary()\n",
        "\n"
      ],
      "metadata": {
        "colab": {
          "base_uri": "https://localhost:8080/"
        },
        "id": "2nHxUp1zrqA3",
        "outputId": "3a579e70-538b-4bca-8932-62f16092106b"
      },
      "execution_count": null,
      "outputs": [
        {
          "output_type": "stream",
          "name": "stdout",
          "text": [
            "Model: \"sequential\"\n",
            "_________________________________________________________________\n",
            " Layer (type)                Output Shape              Param #   \n",
            "=================================================================\n",
            " dense (Dense)               (None, 108)               756       \n",
            "                                                                 \n",
            " dense_1 (Dense)             (None, 36)                3924      \n",
            "                                                                 \n",
            " dense_2 (Dense)             (None, 36)                1332      \n",
            "                                                                 \n",
            "=================================================================\n",
            "Total params: 6,012\n",
            "Trainable params: 6,012\n",
            "Non-trainable params: 0\n",
            "_________________________________________________________________\n"
          ]
        },
        {
          "output_type": "stream",
          "name": "stderr",
          "text": [
            "WARNING:tensorflow:Detecting that an object or model or tf.train.Checkpoint is being deleted with unrestored values. See the following logs for the specific values in question. To silence these warnings, use `status.expect_partial()`. See https://www.tensorflow.org/api_docs/python/tf/train/Checkpoint#restorefor details about the status object returned by the restore function.\n",
            "WARNING:tensorflow:Value in checkpoint could not be found in the restored object: (root).optimizer.iter\n",
            "WARNING:tensorflow:Value in checkpoint could not be found in the restored object: (root).optimizer.beta_1\n",
            "WARNING:tensorflow:Value in checkpoint could not be found in the restored object: (root).optimizer.beta_2\n",
            "WARNING:tensorflow:Value in checkpoint could not be found in the restored object: (root).optimizer.decay\n",
            "WARNING:tensorflow:Value in checkpoint could not be found in the restored object: (root).optimizer.learning_rate\n"
          ]
        }
      ]
    },
    {
      "cell_type": "markdown",
      "source": [
        "##Fit your own final model with hyper parameters received\n",
        "###Get hyper parameters from tuner and train the model with full data\n"
      ],
      "metadata": {
        "id": "2SEJfh-7WUXe"
      }
    },
    {
      "cell_type": "code",
      "source": [
        "final_model = build_model(best_hps[0])\n",
        "\n",
        "x_all = np.concatenate((x_train, x_val))\n",
        "y_all = np.concatenate((y_train, y_val))\n",
        "\n",
        "history = final_model.fit(x=x_all, y=y_all, epochs=4)\n",
        "final_model.summary()\n",
        "scores = final_model.evaluate(x_train, y_train)\n",
        "\n",
        "print(\"\\n%s: %.2f%%\" % (final_model.metrics_names[1], scores[1]*100))"
      ],
      "metadata": {
        "colab": {
          "base_uri": "https://localhost:8080/"
        },
        "id": "SmscF5UlWSqs",
        "outputId": "8d17dada-aa6b-429c-d4a8-5d420262b0c9"
      },
      "execution_count": null,
      "outputs": [
        {
          "output_type": "stream",
          "name": "stdout",
          "text": [
            "Epoch 1/4\n",
            "94/94 [==============================] - 1s 2ms/step - loss: 9.7398e-09 - accuracy: 0.9146\n",
            "Epoch 2/4\n",
            "94/94 [==============================] - 0s 2ms/step - loss: 8.5282e-09 - accuracy: 0.9536\n",
            "Epoch 3/4\n",
            "94/94 [==============================] - 0s 1ms/step - loss: 8.3925e-09 - accuracy: 0.9613\n",
            "Epoch 4/4\n",
            "94/94 [==============================] - 0s 2ms/step - loss: 8.4451e-09 - accuracy: 0.9696\n",
            "Model: \"sequential_1\"\n",
            "_________________________________________________________________\n",
            " Layer (type)                Output Shape              Param #   \n",
            "=================================================================\n",
            " dense_3 (Dense)             (None, 108)               756       \n",
            "                                                                 \n",
            " dense_4 (Dense)             (None, 36)                3924      \n",
            "                                                                 \n",
            " dense_5 (Dense)             (None, 36)                1332      \n",
            "                                                                 \n",
            "=================================================================\n",
            "Total params: 6,012\n",
            "Trainable params: 6,012\n",
            "Non-trainable params: 0\n",
            "_________________________________________________________________\n",
            "75/75 [==============================] - 0s 1ms/step - loss: 8.7251e-09 - accuracy: 0.9791\n",
            "\n",
            "accuracy: 97.91%\n"
          ]
        }
      ]
    },
    {
      "cell_type": "code",
      "source": [
        "tuner.results_summary()"
      ],
      "metadata": {
        "colab": {
          "base_uri": "https://localhost:8080/"
        },
        "id": "XMxYKG2t-IIu",
        "outputId": "6170810f-ecf3-42f9-b786-a04d5c68810f"
      },
      "execution_count": null,
      "outputs": [
        {
          "output_type": "stream",
          "name": "stdout",
          "text": [
            "Results summary\n",
            "Results in content/Group1_architecture\n",
            "Showing 10 best trials\n",
            "<keras_tuner.engine.objective.Objective object at 0x7f5ca01f3910>\n",
            "Trial summary\n",
            "Hyperparameters:\n",
            "num_layers: 2\n",
            "units_0: 108\n",
            "activation: relu\n",
            "dropout: False\n",
            "lr: 0.00023368356870813616\n",
            "units_1: 36\n",
            "Score: 7.886443320614945e-09\n",
            "Trial summary\n",
            "Hyperparameters:\n",
            "num_layers: 2\n",
            "units_0: 36\n",
            "activation: relu\n",
            "dropout: True\n",
            "lr: 0.00039212961505715734\n",
            "units_1: 216\n",
            "Score: 1.2824146899959033e-08\n",
            "Trial summary\n",
            "Hyperparameters:\n",
            "num_layers: 2\n",
            "units_0: 144\n",
            "activation: relu\n",
            "dropout: False\n",
            "lr: 0.0009621896931286941\n",
            "units_1: 36\n",
            "Score: 2.192243542253891e-08\n",
            "Trial summary\n",
            "Hyperparameters:\n",
            "num_layers: 1\n",
            "units_0: 108\n",
            "activation: relu\n",
            "dropout: False\n",
            "lr: 0.0014850075634018692\n",
            "Score: 2.981964719594998e-08\n",
            "Trial summary\n",
            "Hyperparameters:\n",
            "num_layers: 3\n",
            "units_0: 288\n",
            "activation: relu\n",
            "dropout: True\n",
            "lr: 0.0065485139280741555\n",
            "units_1: 360\n",
            "units_2: 36\n",
            "Score: 3.279033933267783e-08\n"
          ]
        }
      ]
    },
    {
      "cell_type": "markdown",
      "source": [
        "###Step4: Use a simple DNN first and use LOSS Function that is optimized (MSE)"
      ],
      "metadata": {
        "id": "Zs6VYnd0mpdB"
      }
    },
    {
      "cell_type": "code",
      "source": [
        "import matplotlib.pyplot as plt\n",
        "plt.plot(history.history['accuracy'])\n",
        "plt.title('Model Accuracy')\n",
        "plt.ylabel('Accuracy')\n",
        "plt.xlabel('Epochs')\n",
        "plt.show()\n",
        "\n",
        "plt.plot(history.history['loss'])\n",
        "plt.title('Learning Loss')\n",
        "plt.ylabel('Loss')\n",
        "plt.xlabel('Epochs')\n",
        "plt.show()\n",
        "\n",
        "!pip install ann_visualizer\n",
        "\n",
        "from ann_visualizer.visualize import ann_viz\n",
        "ann_viz(final_model, view=True, filename='projectDNN.gv', title='Gr1 Neural Network tuning')"
      ],
      "metadata": {
        "colab": {
          "base_uri": "https://localhost:8080/",
          "height": 608
        },
        "id": "aqihv5b6x9_G",
        "outputId": "1d0f4c0d-8d20-46a1-bc18-ef4d2cfa4788"
      },
      "execution_count": null,
      "outputs": [
        {
          "output_type": "display_data",
          "data": {
            "text/plain": [
              "<Figure size 432x288 with 1 Axes>"
            ],
            "image/png": "[encoded data removed]"
          },
          "metadata": {
            "needs_background": "light"
          }
        },
        {
          "output_type": "display_data",
          "data": {
            "text/plain": [
              "<Figure size 432x288 with 1 Axes>"
            ],
            "image/png": "[encoded data removed]"
          },
          "metadata": {
            "needs_background": "light"
          }
        },
        {
          "output_type": "stream",
          "name": "stdout",
          "text": [
            "Looking in indexes: https://pypi.org/simple, https://us-python.pkg.dev/colab-wheels/public/simple/\n",
            "Requirement already satisfied: ann_visualizer in /usr/local/lib/python3.7/dist-packages (2.5)\n"
          ]
        }
      ]
    }
  ]
}